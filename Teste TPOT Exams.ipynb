{
 "cells": [
  {
   "cell_type": "markdown",
   "id": "6da9dccf",
   "metadata": {},
   "source": [
    "# Avaliando o uso do TPOT em um caso simples de regressão\n",
    "\n",
    "O *TPOT* é uma biblioteca de AUTOML baseada principalmente no scikit-learn. Ele é treinado utilizando um algoritmo de programação genética, o que garante que diversos modelos com diversos parâmetros diferentes sejam treinados por diversas gerações até encontrar o modelo ótimo, isso é, aquele que seja menos complexo e possua a maior métrica de avaliação. Sua proposta é para que ele seja uma espécie de *assistente do cientista de dados*, automatizando processos repetitivos para que a performance analítica do profissional seja melhor aproveitada.\n",
    "Um artigo de 2016 sobre como essa biblioteca funciona e sua aplicação na área da biomedicina pode ser encontrado nesse [link](https://link.springer.com/chapter/10.1007/978-3-319-31204-0_9).\n",
    "\n",
    "Para essa análise foi utilizado um dataset disponibilizado no kaggle: [Dataset](https://www.kaggle.com/datasets/rkiattisak/student-performance-in-mathematics?resource=download)\n",
    "\n",
    "O dataset nesse teste em questão tem o objetivo de prever a pontuação de alunos em determinadas provas a partir de seus atributos demográficos como genêro, educação dos pais, etc.\n",
    "Como se trata apenas de um teste, as previsões serão apenas das pontuações no teste de matemática, nomeada na tabela como `math score`\n",
    "\n",
    "Os atributos presentes no dataset são:\n",
    "`gender`, `race/ethnicity`, `parental level of education`, `lunch`, `test preparation course`\n",
    "\n",
    "Para fins de comparação além do modelo generado pelo *TPOT*, também foi treinado um modelo utilizando `SGDRegressor`"
   ]
  },
  {
   "cell_type": "code",
   "execution_count": 1,
   "id": "9b0a588d",
   "metadata": {},
   "outputs": [],
   "source": [
    "import tpot\n",
    "import numpy as np\n",
    "import pandas as pd\n",
    "from sklearn import set_config\n",
    "set_config(display=\"diagram\")"
   ]
  },
  {
   "cell_type": "code",
   "execution_count": 2,
   "id": "5c701f83",
   "metadata": {},
   "outputs": [],
   "source": [
    "from sklearn.model_selection import train_test_split"
   ]
  },
  {
   "cell_type": "code",
   "execution_count": 3,
   "id": "757a3a5e",
   "metadata": {},
   "outputs": [
    {
     "data": {
      "text/html": [
       "<div>\n",
       "<style scoped>\n",
       "    .dataframe tbody tr th:only-of-type {\n",
       "        vertical-align: middle;\n",
       "    }\n",
       "\n",
       "    .dataframe tbody tr th {\n",
       "        vertical-align: top;\n",
       "    }\n",
       "\n",
       "    .dataframe thead th {\n",
       "        text-align: right;\n",
       "    }\n",
       "</style>\n",
       "<table border=\"1\" class=\"dataframe\">\n",
       "  <thead>\n",
       "    <tr style=\"text-align: right;\">\n",
       "      <th></th>\n",
       "      <th>gender</th>\n",
       "      <th>race/ethnicity</th>\n",
       "      <th>parental level of education</th>\n",
       "      <th>lunch</th>\n",
       "      <th>test preparation course</th>\n",
       "      <th>math score</th>\n",
       "      <th>reading score</th>\n",
       "      <th>writing score</th>\n",
       "    </tr>\n",
       "  </thead>\n",
       "  <tbody>\n",
       "    <tr>\n",
       "      <th>0</th>\n",
       "      <td>female</td>\n",
       "      <td>group D</td>\n",
       "      <td>some college</td>\n",
       "      <td>standard</td>\n",
       "      <td>completed</td>\n",
       "      <td>59</td>\n",
       "      <td>70</td>\n",
       "      <td>78</td>\n",
       "    </tr>\n",
       "    <tr>\n",
       "      <th>1</th>\n",
       "      <td>male</td>\n",
       "      <td>group D</td>\n",
       "      <td>associate's degree</td>\n",
       "      <td>standard</td>\n",
       "      <td>none</td>\n",
       "      <td>96</td>\n",
       "      <td>93</td>\n",
       "      <td>87</td>\n",
       "    </tr>\n",
       "    <tr>\n",
       "      <th>2</th>\n",
       "      <td>female</td>\n",
       "      <td>group D</td>\n",
       "      <td>some college</td>\n",
       "      <td>free/reduced</td>\n",
       "      <td>none</td>\n",
       "      <td>57</td>\n",
       "      <td>76</td>\n",
       "      <td>77</td>\n",
       "    </tr>\n",
       "    <tr>\n",
       "      <th>3</th>\n",
       "      <td>male</td>\n",
       "      <td>group B</td>\n",
       "      <td>some college</td>\n",
       "      <td>free/reduced</td>\n",
       "      <td>none</td>\n",
       "      <td>70</td>\n",
       "      <td>70</td>\n",
       "      <td>63</td>\n",
       "    </tr>\n",
       "    <tr>\n",
       "      <th>4</th>\n",
       "      <td>female</td>\n",
       "      <td>group D</td>\n",
       "      <td>associate's degree</td>\n",
       "      <td>standard</td>\n",
       "      <td>none</td>\n",
       "      <td>83</td>\n",
       "      <td>85</td>\n",
       "      <td>86</td>\n",
       "    </tr>\n",
       "  </tbody>\n",
       "</table>\n",
       "</div>"
      ],
      "text/plain": [
       "   gender race/ethnicity parental level of education         lunch  \\\n",
       "0  female        group D                some college      standard   \n",
       "1    male        group D          associate's degree      standard   \n",
       "2  female        group D                some college  free/reduced   \n",
       "3    male        group B                some college  free/reduced   \n",
       "4  female        group D          associate's degree      standard   \n",
       "\n",
       "  test preparation course  math score  reading score  writing score  \n",
       "0               completed          59             70             78  \n",
       "1                    none          96             93             87  \n",
       "2                    none          57             76             77  \n",
       "3                    none          70             70             63  \n",
       "4                    none          83             85             86  "
      ]
     },
     "execution_count": 3,
     "metadata": {},
     "output_type": "execute_result"
    }
   ],
   "source": [
    "df = pd.read_csv('exams.csv')\n",
    "df.head()"
   ]
  },
  {
   "cell_type": "code",
   "execution_count": 4,
   "id": "880c6c89",
   "metadata": {},
   "outputs": [
    {
     "data": {
      "text/plain": [
       "group C    323\n",
       "group D    257\n",
       "group B    198\n",
       "group E    143\n",
       "group A     79\n",
       "Name: race/ethnicity, dtype: int64"
      ]
     },
     "execution_count": 4,
     "metadata": {},
     "output_type": "execute_result"
    }
   ],
   "source": [
    "df['race/ethnicity'].value_counts()"
   ]
  },
  {
   "cell_type": "code",
   "execution_count": 5,
   "id": "84064116",
   "metadata": {},
   "outputs": [
    {
     "data": {
      "text/plain": [
       "some college          224\n",
       "high school           215\n",
       "associate's degree    204\n",
       "some high school      177\n",
       "bachelor's degree     105\n",
       "master's degree        75\n",
       "Name: parental level of education, dtype: int64"
      ]
     },
     "execution_count": 5,
     "metadata": {},
     "output_type": "execute_result"
    }
   ],
   "source": [
    "df['parental level of education'].value_counts()"
   ]
  },
  {
   "cell_type": "code",
   "execution_count": 6,
   "id": "1160d99b",
   "metadata": {},
   "outputs": [
    {
     "data": {
      "text/plain": [
       "standard        660\n",
       "free/reduced    340\n",
       "Name: lunch, dtype: int64"
      ]
     },
     "execution_count": 6,
     "metadata": {},
     "output_type": "execute_result"
    }
   ],
   "source": [
    "df['lunch'].value_counts()"
   ]
  },
  {
   "cell_type": "code",
   "execution_count": 7,
   "id": "e75726c9",
   "metadata": {},
   "outputs": [
    {
     "data": {
      "text/plain": [
       "none         656\n",
       "completed    344\n",
       "Name: test preparation course, dtype: int64"
      ]
     },
     "execution_count": 7,
     "metadata": {},
     "output_type": "execute_result"
    }
   ],
   "source": [
    "df['test preparation course'].value_counts()"
   ]
  },
  {
   "cell_type": "markdown",
   "id": "7afe23ac",
   "metadata": {},
   "source": [
    "### Todas as categorias foram *encodadas* para que se adequassem aos métodos de treinamento"
   ]
  },
  {
   "cell_type": "code",
   "execution_count": 8,
   "id": "2ee74a0b",
   "metadata": {},
   "outputs": [
    {
     "data": {
      "text/html": [
       "<div>\n",
       "<style scoped>\n",
       "    .dataframe tbody tr th:only-of-type {\n",
       "        vertical-align: middle;\n",
       "    }\n",
       "\n",
       "    .dataframe tbody tr th {\n",
       "        vertical-align: top;\n",
       "    }\n",
       "\n",
       "    .dataframe thead th {\n",
       "        text-align: right;\n",
       "    }\n",
       "</style>\n",
       "<table border=\"1\" class=\"dataframe\">\n",
       "  <thead>\n",
       "    <tr style=\"text-align: right;\">\n",
       "      <th></th>\n",
       "      <th>gender</th>\n",
       "      <th>race/ethnicity</th>\n",
       "      <th>parental level of education</th>\n",
       "      <th>lunch</th>\n",
       "      <th>test preparation course</th>\n",
       "      <th>math score</th>\n",
       "      <th>reading score</th>\n",
       "      <th>writing score</th>\n",
       "      <th>gender_encoded</th>\n",
       "      <th>race_encoded</th>\n",
       "      <th>parent_encoded</th>\n",
       "      <th>lunch_encoded</th>\n",
       "      <th>prep_encoded</th>\n",
       "    </tr>\n",
       "  </thead>\n",
       "  <tbody>\n",
       "    <tr>\n",
       "      <th>0</th>\n",
       "      <td>female</td>\n",
       "      <td>group D</td>\n",
       "      <td>some college</td>\n",
       "      <td>standard</td>\n",
       "      <td>completed</td>\n",
       "      <td>59</td>\n",
       "      <td>70</td>\n",
       "      <td>78</td>\n",
       "      <td>0</td>\n",
       "      <td>1</td>\n",
       "      <td>4</td>\n",
       "      <td>0</td>\n",
       "      <td>1</td>\n",
       "    </tr>\n",
       "    <tr>\n",
       "      <th>1</th>\n",
       "      <td>male</td>\n",
       "      <td>group D</td>\n",
       "      <td>associate's degree</td>\n",
       "      <td>standard</td>\n",
       "      <td>none</td>\n",
       "      <td>96</td>\n",
       "      <td>93</td>\n",
       "      <td>87</td>\n",
       "      <td>1</td>\n",
       "      <td>1</td>\n",
       "      <td>3</td>\n",
       "      <td>0</td>\n",
       "      <td>0</td>\n",
       "    </tr>\n",
       "    <tr>\n",
       "      <th>2</th>\n",
       "      <td>female</td>\n",
       "      <td>group D</td>\n",
       "      <td>some college</td>\n",
       "      <td>free/reduced</td>\n",
       "      <td>none</td>\n",
       "      <td>57</td>\n",
       "      <td>76</td>\n",
       "      <td>77</td>\n",
       "      <td>0</td>\n",
       "      <td>1</td>\n",
       "      <td>4</td>\n",
       "      <td>1</td>\n",
       "      <td>0</td>\n",
       "    </tr>\n",
       "    <tr>\n",
       "      <th>3</th>\n",
       "      <td>male</td>\n",
       "      <td>group B</td>\n",
       "      <td>some college</td>\n",
       "      <td>free/reduced</td>\n",
       "      <td>none</td>\n",
       "      <td>70</td>\n",
       "      <td>70</td>\n",
       "      <td>63</td>\n",
       "      <td>1</td>\n",
       "      <td>3</td>\n",
       "      <td>4</td>\n",
       "      <td>1</td>\n",
       "      <td>0</td>\n",
       "    </tr>\n",
       "    <tr>\n",
       "      <th>4</th>\n",
       "      <td>female</td>\n",
       "      <td>group D</td>\n",
       "      <td>associate's degree</td>\n",
       "      <td>standard</td>\n",
       "      <td>none</td>\n",
       "      <td>83</td>\n",
       "      <td>85</td>\n",
       "      <td>86</td>\n",
       "      <td>0</td>\n",
       "      <td>1</td>\n",
       "      <td>3</td>\n",
       "      <td>0</td>\n",
       "      <td>0</td>\n",
       "    </tr>\n",
       "  </tbody>\n",
       "</table>\n",
       "</div>"
      ],
      "text/plain": [
       "   gender race/ethnicity parental level of education         lunch  \\\n",
       "0  female        group D                some college      standard   \n",
       "1    male        group D          associate's degree      standard   \n",
       "2  female        group D                some college  free/reduced   \n",
       "3    male        group B                some college  free/reduced   \n",
       "4  female        group D          associate's degree      standard   \n",
       "\n",
       "  test preparation course  math score  reading score  writing score  \\\n",
       "0               completed          59             70             78   \n",
       "1                    none          96             93             87   \n",
       "2                    none          57             76             77   \n",
       "3                    none          70             70             63   \n",
       "4                    none          83             85             86   \n",
       "\n",
       "   gender_encoded  race_encoded  parent_encoded  lunch_encoded  prep_encoded  \n",
       "0               0             1               4              0             1  \n",
       "1               1             1               3              0             0  \n",
       "2               0             1               4              1             0  \n",
       "3               1             3               4              1             0  \n",
       "4               0             1               3              0             0  "
      ]
     },
     "execution_count": 8,
     "metadata": {},
     "output_type": "execute_result"
    }
   ],
   "source": [
    "df['gender_encoded'] = df['gender'].map({'male': 1, 'female': 0})\n",
    "df['race_encoded'] = df['race/ethnicity'].map({'group A': 4, 'group B': 3, 'group C': 2, 'group D': 1, 'group E': 0})\n",
    "df['parent_encoded'] = df['parental level of education'].map({'some high school': 1,\n",
    "                                                            'high school': 2,\n",
    "                                                            \"associate's degree\": 3,\n",
    "                                                            'some college': 4,\n",
    "                                                            \"bachelor's degree\": 5,\n",
    "                                                            \"master's degree\": 6})\n",
    "df['lunch_encoded'] = df['lunch'].map({'standard': 0, 'free/reduced': 1})\n",
    "df['prep_encoded'] = df['test preparation course'].map({'none': 0, 'completed': 1})\n",
    "df.head()"
   ]
  },
  {
   "cell_type": "code",
   "execution_count": 9,
   "id": "d8dd8b7a",
   "metadata": {},
   "outputs": [
    {
     "name": "stdout",
     "output_type": "stream",
     "text": [
      "(1000, 5) (1000,)\n"
     ]
    }
   ],
   "source": [
    "X = df.drop(['math score', 'reading score', \n",
    "             'writing score', 'gender', 'race/ethnicity', \n",
    "             'parental level of education', 'lunch',\n",
    "           'test preparation course'], axis=1)\n",
    "y = df['math score']\n",
    "\n",
    "print(X.shape, y.shape)"
   ]
  },
  {
   "cell_type": "code",
   "execution_count": 10,
   "id": "6ab1f38e",
   "metadata": {},
   "outputs": [],
   "source": [
    "#Considerando que dos atributos utilizados, \"raça/etnia\" seja a mais relevante, \n",
    "#foi optado que o dataset no momento do split fosse estratificado nessa categoria\n",
    "X_train, X_test, y_train, y_test = train_test_split(X, y, stratify=X['race_encoded'], test_size = 0.25, random_state=42)"
   ]
  },
  {
   "cell_type": "code",
   "execution_count": 11,
   "id": "f4bfecc9",
   "metadata": {},
   "outputs": [],
   "source": [
    "from tpot import TPOTRegressor"
   ]
  },
  {
   "cell_type": "code",
   "execution_count": 190,
   "id": "6c22fc6f",
   "metadata": {},
   "outputs": [
    {
     "data": {
      "image/png": "[encoded data removed]",
      "text/plain": [
       "<Figure size 432x288 with 1 Axes>"
      ]
     },
     "metadata": {
      "needs_background": "light"
     },
     "output_type": "display_data"
    }
   ],
   "source": [
    "#Distribuição das notas\n",
    "y.hist();"
   ]
  },
  {
   "cell_type": "code",
   "execution_count": 18,
   "id": "be45b8f3",
   "metadata": {},
   "outputs": [],
   "source": [
    "math_pred = TPOTRegressor(population_size = 50, cv=5, max_eval_time_mins=0.2, max_time_mins=10, verbosity = 2)"
   ]
  },
  {
   "cell_type": "markdown",
   "id": "13fa63a6",
   "metadata": {},
   "source": [
    "## Toda as informações das gerações ao longo dos treinamentos é disponibilizada pelo *TPOT*, fazendo que seja acompanhável toda a evolução do desempenho dos modelos treinados pelo algoritmo"
   ]
  },
  {
   "cell_type": "code",
   "execution_count": 19,
   "id": "06c322e3",
   "metadata": {
    "scrolled": true
   },
   "outputs": [
    {
     "data": {
      "application/vnd.jupyter.widget-view+json": {
       "model_id": "3ce6f53ae5a54bcdbb873d7804135e9f",
       "version_major": 2,
       "version_minor": 0
      },
      "text/plain": [
       "Optimization Progress:   0%|          | 0/50 [00:00<?, ?pipeline/s]"
      ]
     },
     "metadata": {},
     "output_type": "display_data"
    },
    {
     "name": "stdout",
     "output_type": "stream",
     "text": [
      "\n",
      "Generation 1 - Current best internal CV score: -178.20817045812421\n",
      "\n",
      "Generation 2 - Current best internal CV score: -176.53092745818913\n",
      "\n",
      "Generation 3 - Current best internal CV score: -175.42451117542433\n",
      "\n",
      "Generation 4 - Current best internal CV score: -175.42451117542433\n",
      "\n",
      "Generation 5 - Current best internal CV score: -175.42451117542433\n",
      "\n",
      "Generation 6 - Current best internal CV score: -175.42451117542433\n",
      "\n",
      "Generation 7 - Current best internal CV score: -175.3079281466673\n",
      "\n",
      "Generation 8 - Current best internal CV score: -175.3079281466673\n",
      "\n",
      "Generation 9 - Current best internal CV score: -175.3079281466673\n",
      "\n",
      "Generation 10 - Current best internal CV score: -175.0112285713676\n",
      "\n",
      "Generation 11 - Current best internal CV score: -175.0112285713676\n",
      "\n",
      "Generation 12 - Current best internal CV score: -175.0112285713676\n",
      "\n",
      "Generation 13 - Current best internal CV score: -174.76556937117556\n",
      "\n",
      "Generation 14 - Current best internal CV score: -174.76556937117556\n",
      "\n",
      "Generation 15 - Current best internal CV score: -174.37035097286747\n",
      "\n",
      "Generation 16 - Current best internal CV score: -174.37035097286747\n",
      "\n",
      "Generation 17 - Current best internal CV score: -174.37035097286747\n",
      "\n",
      "Generation 18 - Current best internal CV score: -174.37035097286747\n",
      "\n",
      "Generation 19 - Current best internal CV score: -174.08863987846144\n",
      "\n",
      "Generation 20 - Current best internal CV score: -174.08863987846144\n",
      "\n",
      "Generation 21 - Current best internal CV score: -174.08863987846144\n",
      "\n",
      "Generation 22 - Current best internal CV score: -174.08863987846144\n",
      "\n",
      "10.02 minutes have elapsed. TPOT will close down.\n",
      "TPOT closed during evaluation in one generation.\n",
      "WARNING: TPOT may not provide a good pipeline if TPOT is stopped/interrupted in a early generation.\n",
      "\n",
      "\n",
      "TPOT closed prematurely. Will use the current best pipeline.\n",
      "\n",
      "Best pipeline: GradientBoostingRegressor(Normalizer(input_matrix, norm=max), alpha=0.75, learning_rate=0.1, loss=ls, max_depth=1, max_features=0.5, min_samples_leaf=9, min_samples_split=19, n_estimators=100, subsample=0.8)\n"
     ]
    },
    {
     "data": {
      "text/html": [
       "<style>div.sk-top-container {color: black;background-color: white;}div.sk-toggleable {background-color: white;}label.sk-toggleable__label {cursor: pointer;display: block;width: 100%;margin-bottom: 0;padding: 0.2em 0.3em;box-sizing: border-box;text-align: center;}div.sk-toggleable__content {max-height: 0;max-width: 0;overflow: hidden;text-align: left;background-color: #f0f8ff;}div.sk-toggleable__content pre {margin: 0.2em;color: black;border-radius: 0.25em;background-color: #f0f8ff;}input.sk-toggleable__control:checked~div.sk-toggleable__content {max-height: 200px;max-width: 100%;overflow: auto;}div.sk-estimator input.sk-toggleable__control:checked~label.sk-toggleable__label {background-color: #d4ebff;}div.sk-label input.sk-toggleable__control:checked~label.sk-toggleable__label {background-color: #d4ebff;}input.sk-hidden--visually {border: 0;clip: rect(1px 1px 1px 1px);clip: rect(1px, 1px, 1px, 1px);height: 1px;margin: -1px;overflow: hidden;padding: 0;position: absolute;width: 1px;}div.sk-estimator {font-family: monospace;background-color: #f0f8ff;margin: 0.25em 0.25em;border: 1px dotted black;border-radius: 0.25em;box-sizing: border-box;}div.sk-estimator:hover {background-color: #d4ebff;}div.sk-parallel-item::after {content: \"\";width: 100%;border-bottom: 1px solid gray;flex-grow: 1;}div.sk-label:hover label.sk-toggleable__label {background-color: #d4ebff;}div.sk-serial::before {content: \"\";position: absolute;border-left: 1px solid gray;box-sizing: border-box;top: 2em;bottom: 0;left: 50%;}div.sk-serial {display: flex;flex-direction: column;align-items: center;background-color: white;}div.sk-item {z-index: 1;}div.sk-parallel {display: flex;align-items: stretch;justify-content: center;background-color: white;}div.sk-parallel-item {display: flex;flex-direction: column;position: relative;background-color: white;}div.sk-parallel-item:first-child::after {align-self: flex-end;width: 50%;}div.sk-parallel-item:last-child::after {align-self: flex-start;width: 50%;}div.sk-parallel-item:only-child::after {width: 0;}div.sk-dashed-wrapped {border: 1px dashed gray;margin: 0.2em;box-sizing: border-box;padding-bottom: 0.1em;background-color: white;position: relative;}div.sk-label label {font-family: monospace;font-weight: bold;background-color: white;display: inline-block;line-height: 1.2em;}div.sk-label-container {position: relative;z-index: 2;text-align: center;}div.sk-container {display: inline-block;position: relative;}</style><div class=\"sk-top-container\"><div class=\"sk-container\"><div class=\"sk-item\"><div class=\"sk-estimator sk-toggleable\"><input class=\"sk-toggleable__control sk-hidden--visually\" id=\"3a1aa138-2afc-407f-9271-d4a24baf0987\" type=\"checkbox\" checked><label class=\"sk-toggleable__label\" for=\"3a1aa138-2afc-407f-9271-d4a24baf0987\">TPOTRegressor</label><div class=\"sk-toggleable__content\"><pre>TPOTRegressor(max_eval_time_mins=0.2, max_time_mins=10, population_size=50,\n",
       "              verbosity=2)</pre></div></div></div></div></div>"
      ],
      "text/plain": [
       "TPOTRegressor(max_eval_time_mins=0.2, max_time_mins=10, population_size=50,\n",
       "              verbosity=2)"
      ]
     },
     "execution_count": 19,
     "metadata": {},
     "output_type": "execute_result"
    }
   ],
   "source": [
    "math_pred.fit(X_train, y_train)"
   ]
  },
  {
   "cell_type": "code",
   "execution_count": 181,
   "id": "bf8ad2e0",
   "metadata": {},
   "outputs": [
    {
     "data": {
      "text/plain": [
       "-151.82595885927367"
      ]
     },
     "execution_count": 181,
     "metadata": {},
     "output_type": "execute_result"
    }
   ],
   "source": [
    "# Score do dataset de teste\n",
    "math_pred.score(X_test,y_test)"
   ]
  },
  {
   "cell_type": "code",
   "execution_count": 182,
   "id": "ca604f34",
   "metadata": {},
   "outputs": [
    {
     "data": {
      "text/html": [
       "<style>div.sk-top-container {color: black;background-color: white;}div.sk-toggleable {background-color: white;}label.sk-toggleable__label {cursor: pointer;display: block;width: 100%;margin-bottom: 0;padding: 0.2em 0.3em;box-sizing: border-box;text-align: center;}div.sk-toggleable__content {max-height: 0;max-width: 0;overflow: hidden;text-align: left;background-color: #f0f8ff;}div.sk-toggleable__content pre {margin: 0.2em;color: black;border-radius: 0.25em;background-color: #f0f8ff;}input.sk-toggleable__control:checked~div.sk-toggleable__content {max-height: 200px;max-width: 100%;overflow: auto;}div.sk-estimator input.sk-toggleable__control:checked~label.sk-toggleable__label {background-color: #d4ebff;}div.sk-label input.sk-toggleable__control:checked~label.sk-toggleable__label {background-color: #d4ebff;}input.sk-hidden--visually {border: 0;clip: rect(1px 1px 1px 1px);clip: rect(1px, 1px, 1px, 1px);height: 1px;margin: -1px;overflow: hidden;padding: 0;position: absolute;width: 1px;}div.sk-estimator {font-family: monospace;background-color: #f0f8ff;margin: 0.25em 0.25em;border: 1px dotted black;border-radius: 0.25em;box-sizing: border-box;}div.sk-estimator:hover {background-color: #d4ebff;}div.sk-parallel-item::after {content: \"\";width: 100%;border-bottom: 1px solid gray;flex-grow: 1;}div.sk-label:hover label.sk-toggleable__label {background-color: #d4ebff;}div.sk-serial::before {content: \"\";position: absolute;border-left: 1px solid gray;box-sizing: border-box;top: 2em;bottom: 0;left: 50%;}div.sk-serial {display: flex;flex-direction: column;align-items: center;background-color: white;}div.sk-item {z-index: 1;}div.sk-parallel {display: flex;align-items: stretch;justify-content: center;background-color: white;}div.sk-parallel-item {display: flex;flex-direction: column;position: relative;background-color: white;}div.sk-parallel-item:first-child::after {align-self: flex-end;width: 50%;}div.sk-parallel-item:last-child::after {align-self: flex-start;width: 50%;}div.sk-parallel-item:only-child::after {width: 0;}div.sk-dashed-wrapped {border: 1px dashed gray;margin: 0.2em;box-sizing: border-box;padding-bottom: 0.1em;background-color: white;position: relative;}div.sk-label label {font-family: monospace;font-weight: bold;background-color: white;display: inline-block;line-height: 1.2em;}div.sk-label-container {position: relative;z-index: 2;text-align: center;}div.sk-container {display: inline-block;position: relative;}</style><div class=\"sk-top-container\"><div class=\"sk-container\"><div class=\"sk-item sk-dashed-wrapped\"><div class=\"sk-label-container\"><div class=\"sk-label sk-toggleable\"><input class=\"sk-toggleable__control sk-hidden--visually\" id=\"bc1970a3-063a-4478-8bc8-b9a7fad05833\" type=\"checkbox\" ><label class=\"sk-toggleable__label\" for=\"bc1970a3-063a-4478-8bc8-b9a7fad05833\">Pipeline</label><div class=\"sk-toggleable__content\"><pre>Pipeline(steps=[('normalizer', Normalizer(norm='max')),\n",
       "                ('gradientboostingregressor',\n",
       "                 GradientBoostingRegressor(alpha=0.75, max_depth=1,\n",
       "                                           max_features=0.5, min_samples_leaf=9,\n",
       "                                           min_samples_split=19,\n",
       "                                           subsample=0.8))])</pre></div></div></div><div class=\"sk-serial\"><div class=\"sk-item\"><div class=\"sk-estimator sk-toggleable\"><input class=\"sk-toggleable__control sk-hidden--visually\" id=\"fbdf2c44-e882-4254-a74e-db0928894491\" type=\"checkbox\" ><label class=\"sk-toggleable__label\" for=\"fbdf2c44-e882-4254-a74e-db0928894491\">Normalizer</label><div class=\"sk-toggleable__content\"><pre>Normalizer(norm='max')</pre></div></div></div><div class=\"sk-item\"><div class=\"sk-estimator sk-toggleable\"><input class=\"sk-toggleable__control sk-hidden--visually\" id=\"3055697e-f38c-4119-bcf6-0685d556e7ee\" type=\"checkbox\" ><label class=\"sk-toggleable__label\" for=\"3055697e-f38c-4119-bcf6-0685d556e7ee\">GradientBoostingRegressor</label><div class=\"sk-toggleable__content\"><pre>GradientBoostingRegressor(alpha=0.75, max_depth=1, max_features=0.5,\n",
       "                          min_samples_leaf=9, min_samples_split=19,\n",
       "                          subsample=0.8)</pre></div></div></div></div></div></div></div>"
      ],
      "text/plain": [
       "Pipeline(steps=[('normalizer', Normalizer(norm='max')),\n",
       "                ('gradientboostingregressor',\n",
       "                 GradientBoostingRegressor(alpha=0.75, max_depth=1,\n",
       "                                           max_features=0.5, min_samples_leaf=9,\n",
       "                                           min_samples_split=19,\n",
       "                                           subsample=0.8))])"
      ]
     },
     "execution_count": 182,
     "metadata": {},
     "output_type": "execute_result"
    }
   ],
   "source": [
    "# Pipeline final do modelo com as normalizações e o algoritmo escolhido\n",
    "math_pred.fitted_pipeline_"
   ]
  },
  {
   "cell_type": "code",
   "execution_count": 188,
   "id": "4cb3ff21",
   "metadata": {},
   "outputs": [],
   "source": [
    "math_pred.export('tpot_mathprev.py')"
   ]
  },
  {
   "cell_type": "markdown",
   "id": "f0df59ce",
   "metadata": {},
   "source": [
    "### Para ilustrar, abaixo apenas o arquivo que é exportado do modelo treinado\n",
    "Arquivo exportado: `tpot_mathprev.py`\n",
    "\n",
    "Todas as bibliotecas necessárias caso o modelo precise ser utilizado de forma externa, junto dos metodos de pipeline e os parâmetros do modelo escolhido, que no caso foi o de `GradientBoostingRegressor`."
   ]
  },
  {
   "cell_type": "code",
   "execution_count": 1,
   "id": "c7be1c59",
   "metadata": {
    "collapsed": true
   },
   "outputs": [
    {
     "data": {
      "text/plain": [
       "'import numpy as np\\nimport pandas as pd\\nfrom sklearn.ensemble import GradientBoostingRegressor\\nfrom sklearn.model_selection import train_test_split\\nfrom sklearn.pipeline import make_pipeline\\nfrom sklearn.preprocessing import Normalizer\\n\\n# NOTE: Make sure that the outcome column is labeled \\'target\\' in the data file\\ntpot_data = pd.read_csv(\\'PATH/TO/DATA/FILE\\', sep=\\'COLUMN_SEPARATOR\\', dtype=np.float64)\\nfeatures = tpot_data.drop(\\'target\\', axis=1)\\ntraining_features, testing_features, training_target, testing_target =             train_test_split(features, tpot_data[\\'target\\'], random_state=None)\\n\\n# Average CV score on the training set was: -174.08863987846144\\nexported_pipeline = make_pipeline(\\n    Normalizer(norm=\"max\"),\\n    GradientBoostingRegressor(alpha=0.75, learning_rate=0.1, loss=\"ls\", max_depth=1, max_features=0.5, min_samples_leaf=9, min_samples_split=19, n_estimators=100, subsample=0.8)\\n)\\n\\nexported_pipeline.fit(training_features, training_target)\\nresults = exported_pipeline.predict(testing_features)'"
      ]
     },
     "execution_count": 1,
     "metadata": {},
     "output_type": "execute_result"
    }
   ],
   "source": [
    "\"\"\"import numpy as np\n",
    "import pandas as pd\n",
    "from sklearn.ensemble import GradientBoostingRegressor\n",
    "from sklearn.model_selection import train_test_split\n",
    "from sklearn.pipeline import make_pipeline\n",
    "from sklearn.preprocessing import Normalizer\n",
    "\n",
    "# NOTE: Make sure that the outcome column is labeled 'target' in the data file\n",
    "tpot_data = pd.read_csv('PATH/TO/DATA/FILE', sep='COLUMN_SEPARATOR', dtype=np.float64)\n",
    "features = tpot_data.drop('target', axis=1)\n",
    "training_features, testing_features, training_target, testing_target = \\\n",
    "            train_test_split(features, tpot_data['target'], random_state=None)\n",
    "\n",
    "# Average CV score on the training set was: -174.08863987846144\n",
    "exported_pipeline = make_pipeline(\n",
    "    Normalizer(norm=\"max\"),\n",
    "    GradientBoostingRegressor(alpha=0.75, learning_rate=0.1, loss=\"ls\", max_depth=1, max_features=0.5, min_samples_leaf=9, min_samples_split=19, n_estimators=100, subsample=0.8)\n",
    ")\n",
    "\n",
    "exported_pipeline.fit(training_features, training_target)\n",
    "results = exported_pipeline.predict(testing_features)\"\"\""
   ]
  },
  {
   "cell_type": "code",
   "execution_count": 68,
   "id": "54fc1780",
   "metadata": {},
   "outputs": [],
   "source": [
    "y_pred = math_pred.predict(X_test)"
   ]
  },
  {
   "cell_type": "code",
   "execution_count": 139,
   "id": "b40cfe53",
   "metadata": {},
   "outputs": [],
   "source": [
    "import matplotlib.pyplot as plt\n",
    "import seaborn as sns\n",
    "from sklearn.metrics import mean_squared_error, r2_score"
   ]
  },
  {
   "cell_type": "code",
   "execution_count": 191,
   "id": "3f3c6572",
   "metadata": {},
   "outputs": [],
   "source": [
    "#Calculo do MSE para o primeiro modelo\n",
    "mse_1 = mean_squared_error(y_test, y_pred)"
   ]
  },
  {
   "cell_type": "code",
   "execution_count": 183,
   "id": "162463a0",
   "metadata": {},
   "outputs": [
    {
     "name": "stderr",
     "output_type": "stream",
     "text": [
      "C:\\Users\\ggcs1\\anaconda3\\lib\\site-packages\\seaborn\\_decorators.py:36: FutureWarning: Pass the following variables as keyword args: x, y. From version 0.12, the only valid positional argument will be `data`, and passing other arguments without an explicit keyword will result in an error or misinterpretation.\n",
      "  warnings.warn(\n"
     ]
    },
    {
     "data": {
      "image/png": "[encoded data removed]",
      "text/plain": [
       "<Figure size 432x432 with 1 Axes>"
      ]
     },
     "metadata": {
      "needs_background": "light"
     },
     "output_type": "display_data"
    }
   ],
   "source": [
    "plt.figure(figsize=(6,6))\n",
    "plt.title('Relação Real X Previsto', fontsize=20)\n",
    "sns.scatterplot(y_test, y_pred, alpha=0.4, s=100)\n",
    "\n",
    "linha_x = np.arange(100)\n",
    "linha_y = linha_x\n",
    "plt.plot(linha_x, linha_y, 'r--', alpha=0.5)\n",
    "\n",
    "plt.xlim((20,100))\n",
    "plt.ylim((20,100))\n",
    "\n",
    "plt.xlabel('Real',fontsize=15)\n",
    "plt.ylabel('Previsto',fontsize=15)\n",
    "plt.text(0.05, 0.95, f\"MSE = {mse_1:.4f}\", transform=plt.gca().transAxes, ha='left', va='top')\n",
    "plt.grid();"
   ]
  },
  {
   "cell_type": "code",
   "execution_count": 119,
   "id": "c6bfd767",
   "metadata": {},
   "outputs": [],
   "source": [
    "from sklearn.linear_model import SGDRegressor\n",
    "from sklearn.model_selection import RandomizedSearchCV\n",
    "from scipy.stats import uniform"
   ]
  },
  {
   "cell_type": "code",
   "execution_count": 120,
   "id": "a2b99067",
   "metadata": {},
   "outputs": [],
   "source": [
    "#Instanciando o modelo\n",
    "modelo = SGDRegressor()"
   ]
  },
  {
   "cell_type": "code",
   "execution_count": 121,
   "id": "43eeede4",
   "metadata": {},
   "outputs": [],
   "source": [
    "parametros = {\n",
    "    'alpha': uniform(0.0001, 1),\n",
    "    'penalty': ['l1', 'l2', 'elasticnet'],\n",
    "    'l1_ratio': uniform(0, 1)}\n",
    "\n",
    "math_rscv = RandomizedSearchCV(modelo, param_distributions=parametros, n_iter=100)"
   ]
  },
  {
   "cell_type": "code",
   "execution_count": 125,
   "id": "c77ce4b7",
   "metadata": {},
   "outputs": [
    {
     "name": "stdout",
     "output_type": "stream",
     "text": [
      "{'alpha': 0.04151876390860555, 'l1_ratio': 0.8241945837370115, 'penalty': 'l1'}\n"
     ]
    }
   ],
   "source": [
    "math_rscv.fit(X_train, y_train)\n",
    "print(math_rscv.best_params_)"
   ]
  },
  {
   "cell_type": "code",
   "execution_count": 128,
   "id": "b89ba8e6",
   "metadata": {},
   "outputs": [],
   "source": [
    "best_model = math_rscv.best_estimator_\n",
    "y_rscv = best_model.predict(X_test)"
   ]
  },
  {
   "cell_type": "code",
   "execution_count": 174,
   "id": "4efe229b",
   "metadata": {},
   "outputs": [],
   "source": [
    "#Calculo do MSE para o segundo modelo\n",
    "mse_2 = mean_squared_error(y_test, y_rscv)"
   ]
  },
  {
   "cell_type": "code",
   "execution_count": 184,
   "id": "43b14c9d",
   "metadata": {
    "scrolled": false
   },
   "outputs": [
    {
     "name": "stderr",
     "output_type": "stream",
     "text": [
      "C:\\Users\\ggcs1\\anaconda3\\lib\\site-packages\\seaborn\\_decorators.py:36: FutureWarning: Pass the following variables as keyword args: x, y. From version 0.12, the only valid positional argument will be `data`, and passing other arguments without an explicit keyword will result in an error or misinterpretation.\n",
      "  warnings.warn(\n"
     ]
    },
    {
     "data": {
      "image/png": "[encoded data removed]",
      "text/plain": [
       "<Figure size 432x432 with 1 Axes>"
      ]
     },
     "metadata": {
      "needs_background": "light"
     },
     "output_type": "display_data"
    }
   ],
   "source": [
    "plt.figure(figsize=(6,6))\n",
    "plt.title('Relação Real X Previsto | Regressor', fontsize=20)\n",
    "sns.scatterplot(y_test, y_rscv, alpha=0.8, s=80, color='lightcoral')\n",
    "#sns.scatterplot(y_test, y_pred, alpha=0.4, s=80)\n",
    "\n",
    "linha_x = np.arange(100)\n",
    "linha_y = linha_x\n",
    "plt.plot(linha_x, linha_y, 'r--', alpha=0.5)\n",
    "\n",
    "plt.xlim((20,100))\n",
    "plt.ylim((20,100))\n",
    "\n",
    "plt.xlabel('Real',fontsize=15)\n",
    "plt.ylabel('Previsto',fontsize=15)\n",
    "plt.text(0.05, 0.95, f\"MSE = {mse_2:.4f}\", transform=plt.gca().transAxes, ha='left', va='top')\n",
    "plt.grid();"
   ]
  },
  {
   "cell_type": "markdown",
   "id": "8af78987",
   "metadata": {},
   "source": [
    "## Considerações finais\n",
    "\n",
    "É possível concluir que ambos os modelos se comportam de maneira semelhante em relação aos seus resultados, principalmente ao se observar as visualizações disponíveis, nas quais a distribuição dos datapoints dos dois modelos permanece em lugares similares. A diferença entre os modelos é evidenciada pela pontuação de cada um no Mean Squared Error (MSE), que foi utilizado nesse teste por penalizar os valores mais extremos.\n",
    "\n",
    "O modelo treinado pelo TPOT obteve uma pontuação de `151,82`, enquanto o modelo SGDRegressor obteve `154,56`. Portanto, o modelo gerado pelo TPOT obteve uma pontuação melhor, já que quanto menor o valor do MSE, mais ajustado o modelo está.\n",
    "\n",
    "É importante destacar que embora a biblioteca seja uma ferramenta poderosa para automatizar a seleção de modelos e hiperparâmetros, é necessário avaliar cuidadosamente os resultados obtidos e realizar mais testes em diferentes conjuntos de dados antes de considerar o modelo final como um sucesso. Ainda é preciso verificar se o modelo é capaz de generalizar bem para novos dados e se é robusto o suficiente para lidar com diferentes cenários e variações nos dados. Mais testes precisam ser realizados para comprovar a eficácia da biblioteca em diferentes situações e tarefas de aprendizado de máquina.\n",
    "\n",
    "Apesar da facilidade que o TPOT pode oferecer como um assistente de automação de machine learning, é importante lembrar que seu uso não deve substituir completamente os métodos tradicionais de treinamento. Os métodos tradicionais fornecem insights de investigação sobre os dados, permitindo uma melhor compreensão de como cada modelo de machine learning funciona em teoria. Portanto, o TPOT deve ser utilizado por profissionais experientes na área, que saibam avaliar e projetar seus projetos de maneira cuidadosa, e que utilizem o TPOT para automatizar tarefas que já dominam, funcionando de fato como um assistente."
   ]
  },
  {
   "cell_type": "code",
   "execution_count": null,
   "id": "3281801a",
   "metadata": {},
   "outputs": [],
   "source": []
  }
 ],
 "metadata": {
  "kernelspec": {
   "display_name": "Python 3",
   "language": "python",
   "name": "python3"
  },
  "language_info": {
   "codemirror_mode": {
    "name": "ipython",
    "version": 3
   },
   "file_extension": ".py",
   "mimetype": "text/x-python",
   "name": "python",
   "nbconvert_exporter": "python",
   "pygments_lexer": "ipython3",
   "version": "3.8.8"
  }
 },
 "nbformat": 4,
 "nbformat_minor": 5
}
